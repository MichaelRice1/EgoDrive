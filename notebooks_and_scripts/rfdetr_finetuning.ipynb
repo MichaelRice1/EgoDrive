{
 "cells": [
  {
   "cell_type": "code",
   "execution_count": null,
   "metadata": {},
   "outputs": [],
   "source": [
    "yolo detect train model=/Users/michaelrice/Documents/GitHub/Thesis/MSc_AI_Thesis/other/yolo11n.pt data=/Volumes/MichaelSSD/obj_det_test2/data.yaml epochs=10 imgsz=640 device=mps"
   ]
  }
 ],
 "metadata": {
  "kernelspec": {
   "display_name": "venv",
   "language": "python",
   "name": "python3"
  },
  "language_info": {
   "codemirror_mode": {
    "name": "ipython",
    "version": 3
   },
   "file_extension": ".py",
   "mimetype": "text/x-python",
   "name": "python",
   "nbconvert_exporter": "python",
   "pygments_lexer": "ipython3",
   "version": "3.13.2"
  }
 },
 "nbformat": 4,
 "nbformat_minor": 2
}
