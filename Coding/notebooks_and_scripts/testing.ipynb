{
 "cells": [
  {
   "cell_type": "code",
   "execution_count": 1,
   "metadata": {},
   "outputs": [],
   "source": [
    "# import matplotlib.pyplot as plt\n",
    "# from ultralytics import YOLO\n",
    "# import cv2\n",
    "# import google.generativeai as genai\n",
    "# from PIL import Image, ImageDraw, ImageFont\n",
    "# import numpy as np\n",
    "# import time\n",
    "# import os\n",
    "from projectaria_tools.core import data_provider, calibration\n",
    "import projectaria_tools.core.mps as mps\n",
    "from projectaria_tools.core import data_provider\n",
    "from projectaria_tools.core.stream_id import StreamId\n",
    "from projectaria_tools.core.mps.utils import (\n",
    "    get_gaze_vector_reprojection,\n",
    "    get_nearest_eye_gaze\n",
    ")\n",
    "# import glob\n",
    "from projectaria_tools.core.mps.utils import get_nearest_wrist_and_palm_pose\n",
    "# import pandas as pd\n",
    "import numpy as np\n",
    "\n"
   ]
  },
  {
   "cell_type": "code",
   "execution_count": 2,
   "metadata": {},
   "outputs": [],
   "source": [
    "gaze_cpf = mps.read_eyegaze('C:/Users/athen/Desktop/Github/MastersThesis/sampledata/sample3/mps_Driving_Profile_Test_vrs/eye_gaze/general_eye_gaze.csv')\n",
    "handwrist_points  = mps.hand_tracking.read_wrist_and_palm_poses('C:/Users/athen/Desktop/Github/MastersThesis/sampledata/sample3/mps_Driving_Profile_Test_vrs/hand_tracking/wrist_and_palm_poses.csv')\n",
    "\n",
    "\n",
    "timestamps = np.linspace(119.521, 136.771, 346)\n",
    "\n",
    "res = {}\n",
    "\n",
    "for t in timestamps:\n",
    "  tns = t * 1e9\n",
    "\n",
    "  wrist_and_palm_pose = get_nearest_wrist_and_palm_pose(handwrist_points, tns)\n",
    "\n",
    "  if wrist_and_palm_pose is not None:\n",
    "    left_pose_confidence = wrist_and_palm_pose.left_hand.confidence\n",
    "    left_wrist_position_device = wrist_and_palm_pose.left_hand.wrist_position_device\n",
    "    left_palm_position_device = wrist_and_palm_pose.left_hand.palm_position_device\n",
    "    left_wrist_normal_device = wrist_and_palm_pose.left_hand.wrist_and_palm_normal_device.wrist_normal_device\n",
    "\n",
    "    res[t] = {\n",
    "      'left_pose_confidence': left_pose_confidence,\n",
    "      'left_wrist_position_device': left_wrist_position_device,\n",
    "      'left_palm_position_device': left_palm_position_device,\n",
    "      'left_wrist_normal_device': left_wrist_normal_device\n",
    "    }\n",
    "\n",
    "\n",
    "\n"
   ]
  }
 ],
 "metadata": {
  "kernelspec": {
   "display_name": ".venv",
   "language": "python",
   "name": "python3"
  },
  "language_info": {
   "codemirror_mode": {
    "name": "ipython",
    "version": 3
   },
   "file_extension": ".py",
   "mimetype": "text/x-python",
   "name": "python",
   "nbconvert_exporter": "python",
   "pygments_lexer": "ipython3",
   "version": "3.12.0"
  }
 },
 "nbformat": 4,
 "nbformat_minor": 2
}
