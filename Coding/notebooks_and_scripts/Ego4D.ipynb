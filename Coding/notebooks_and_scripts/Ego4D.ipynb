{
 "cells": [
  {
   "cell_type": "code",
   "execution_count": 1,
   "metadata": {},
   "outputs": [
    {
     "name": "stdout",
     "output_type": "stream",
     "text": [
      "Collecting ego4d\n",
      "  Downloading ego4d-1.7.3.tar.gz (94 kB)\n",
      "  Installing build dependencies: started\n",
      "  Installing build dependencies: finished with status 'done'\n",
      "  Getting requirements to build wheel: started\n",
      "  Getting requirements to build wheel: finished with status 'done'\n",
      "  Preparing metadata (pyproject.toml): started\n",
      "  Preparing metadata (pyproject.toml): finished with status 'done'\n",
      "Collecting boto3 (from ego4d)\n",
      "  Downloading boto3-1.37.12-py3-none-any.whl.metadata (6.7 kB)\n",
      "Requirement already satisfied: tqdm in c:\\users\\athen\\desktop\\github\\mastersthesis\\.venv\\lib\\site-packages (from ego4d) (4.67.1)\n",
      "Collecting regex (from ego4d)\n",
      "  Downloading regex-2024.11.6-cp312-cp312-win_amd64.whl.metadata (41 kB)\n",
      "Collecting dataclasses_json (from ego4d)\n",
      "  Using cached dataclasses_json-0.6.7-py3-none-any.whl.metadata (25 kB)\n",
      "Collecting iopath (from ego4d)\n",
      "  Downloading iopath-0.1.10.tar.gz (42 kB)\n",
      "  Installing build dependencies: started\n",
      "  Installing build dependencies: finished with status 'done'\n",
      "  Getting requirements to build wheel: started\n",
      "  Getting requirements to build wheel: finished with status 'done'\n",
      "  Preparing metadata (pyproject.toml): started\n",
      "  Preparing metadata (pyproject.toml): finished with status 'done'\n",
      "Collecting botocore<1.38.0,>=1.37.12 (from boto3->ego4d)\n",
      "  Downloading botocore-1.37.12-py3-none-any.whl.metadata (5.7 kB)\n",
      "Collecting jmespath<2.0.0,>=0.7.1 (from boto3->ego4d)\n",
      "  Downloading jmespath-1.0.1-py3-none-any.whl.metadata (7.6 kB)\n",
      "Collecting s3transfer<0.12.0,>=0.11.0 (from boto3->ego4d)\n",
      "  Downloading s3transfer-0.11.4-py3-none-any.whl.metadata (1.7 kB)\n",
      "Collecting marshmallow<4.0.0,>=3.18.0 (from dataclasses_json->ego4d)\n",
      "  Using cached marshmallow-3.26.1-py3-none-any.whl.metadata (7.3 kB)\n",
      "Collecting typing-inspect<1,>=0.4.0 (from dataclasses_json->ego4d)\n",
      "  Using cached typing_inspect-0.9.0-py3-none-any.whl.metadata (1.5 kB)\n",
      "Requirement already satisfied: typing_extensions in c:\\users\\athen\\desktop\\github\\mastersthesis\\.venv\\lib\\site-packages (from iopath->ego4d) (4.12.2)\n",
      "Collecting portalocker (from iopath->ego4d)\n",
      "  Downloading portalocker-3.1.1-py3-none-any.whl.metadata (8.6 kB)\n",
      "Requirement already satisfied: colorama in c:\\users\\athen\\desktop\\github\\mastersthesis\\.venv\\lib\\site-packages (from tqdm->ego4d) (0.4.6)\n",
      "Requirement already satisfied: python-dateutil<3.0.0,>=2.1 in c:\\users\\athen\\desktop\\github\\mastersthesis\\.venv\\lib\\site-packages (from botocore<1.38.0,>=1.37.12->boto3->ego4d) (2.9.0.post0)\n",
      "Requirement already satisfied: urllib3!=2.2.0,<3,>=1.25.4 in c:\\users\\athen\\desktop\\github\\mastersthesis\\.venv\\lib\\site-packages (from botocore<1.38.0,>=1.37.12->boto3->ego4d) (2.3.0)\n",
      "Requirement already satisfied: packaging>=17.0 in c:\\users\\athen\\desktop\\github\\mastersthesis\\.venv\\lib\\site-packages (from marshmallow<4.0.0,>=3.18.0->dataclasses_json->ego4d) (24.2)\n",
      "Collecting mypy-extensions>=0.3.0 (from typing-inspect<1,>=0.4.0->dataclasses_json->ego4d)\n",
      "  Downloading mypy_extensions-1.0.0-py3-none-any.whl.metadata (1.1 kB)\n",
      "Requirement already satisfied: pywin32>=226 in c:\\users\\athen\\desktop\\github\\mastersthesis\\.venv\\lib\\site-packages (from portalocker->iopath->ego4d) (309)\n",
      "Requirement already satisfied: six>=1.5 in c:\\users\\athen\\desktop\\github\\mastersthesis\\.venv\\lib\\site-packages (from python-dateutil<3.0.0,>=2.1->botocore<1.38.0,>=1.37.12->boto3->ego4d) (1.17.0)\n",
      "Downloading boto3-1.37.12-py3-none-any.whl (139 kB)\n",
      "Using cached dataclasses_json-0.6.7-py3-none-any.whl (28 kB)\n",
      "Downloading regex-2024.11.6-cp312-cp312-win_amd64.whl (273 kB)\n",
      "Downloading botocore-1.37.12-py3-none-any.whl (13.4 MB)\n",
      "   ---------------------------------------- 0.0/13.4 MB ? eta -:--:--\n",
      "   ---------------------------------------  13.4/13.4 MB 70.1 MB/s eta 0:00:01\n",
      "   ---------------------------------------- 13.4/13.4 MB 49.6 MB/s eta 0:00:00\n",
      "Downloading jmespath-1.0.1-py3-none-any.whl (20 kB)\n",
      "Using cached marshmallow-3.26.1-py3-none-any.whl (50 kB)\n",
      "Downloading s3transfer-0.11.4-py3-none-any.whl (84 kB)\n",
      "Using cached typing_inspect-0.9.0-py3-none-any.whl (8.8 kB)\n",
      "Downloading portalocker-3.1.1-py3-none-any.whl (19 kB)\n",
      "Downloading mypy_extensions-1.0.0-py3-none-any.whl (4.7 kB)\n",
      "Building wheels for collected packages: ego4d, iopath\n",
      "  Building wheel for ego4d (pyproject.toml): started\n",
      "  Building wheel for ego4d (pyproject.toml): finished with status 'done'\n",
      "  Created wheel for ego4d: filename=ego4d-1.7.3-py3-none-any.whl size=118289 sha256=9077818d0a5c4dcf9fccf7653322c0e280a796ee62fb026466ea8b54d87eb18d\n",
      "  Stored in directory: c:\\users\\athen\\appdata\\local\\pip\\cache\\wheels\\21\\cb\\71\\5c67fe56e187aeb2d7566f197cd6987da12f7b718fd13a24be\n",
      "  Building wheel for iopath (pyproject.toml): started\n",
      "  Building wheel for iopath (pyproject.toml): finished with status 'done'\n",
      "  Created wheel for iopath: filename=iopath-0.1.10-py3-none-any.whl size=31576 sha256=8cdd8505f0c024f84386bdfcfc5128b1da12de34df45ed66a1ee03bb1fff0fc3\n",
      "  Stored in directory: c:\\users\\athen\\appdata\\local\\pip\\cache\\wheels\\7c\\96\\04\\4f5f31ff812f684f69f40cb1634357812220aac58d4698048c\n",
      "Successfully built ego4d iopath\n",
      "Installing collected packages: regex, portalocker, mypy-extensions, marshmallow, jmespath, typing-inspect, iopath, botocore, s3transfer, dataclasses_json, boto3, ego4d\n",
      "Successfully installed boto3-1.37.12 botocore-1.37.12 dataclasses_json-0.6.7 ego4d-1.7.3 iopath-0.1.10 jmespath-1.0.1 marshmallow-3.26.1 mypy-extensions-1.0.0 portalocker-3.1.1 regex-2024.11.6 s3transfer-0.11.4 typing-inspect-0.9.0\n"
     ]
    }
   ],
   "source": [
    "!pip install ego4d"
   ]
  },
  {
   "cell_type": "code",
   "execution_count": 5,
   "metadata": {},
   "outputs": [
    {
     "name": "stdout",
     "output_type": "stream",
     "text": [
      "Collecting awscli\n",
      "  Downloading awscli-1.38.12-py3-none-any.whl.metadata (11 kB)\n",
      "Requirement already satisfied: botocore==1.37.12 in c:\\users\\athen\\desktop\\github\\mastersthesis\\.venv\\lib\\site-packages (from awscli) (1.37.12)\n",
      "Collecting docutils<0.17,>=0.10 (from awscli)\n",
      "  Downloading docutils-0.16-py2.py3-none-any.whl.metadata (2.7 kB)\n",
      "Requirement already satisfied: s3transfer<0.12.0,>=0.11.0 in c:\\users\\athen\\desktop\\github\\mastersthesis\\.venv\\lib\\site-packages (from awscli) (0.11.4)\n",
      "Collecting PyYAML<6.1,>=3.10 (from awscli)\n",
      "  Downloading PyYAML-6.0.2-cp312-cp312-win_amd64.whl.metadata (2.1 kB)\n",
      "Requirement already satisfied: colorama<0.4.7,>=0.2.5 in c:\\users\\athen\\desktop\\github\\mastersthesis\\.venv\\lib\\site-packages (from awscli) (0.4.6)\n",
      "Collecting rsa<4.8,>=3.1.2 (from awscli)\n",
      "  Downloading rsa-4.7.2-py3-none-any.whl.metadata (3.6 kB)\n",
      "Requirement already satisfied: jmespath<2.0.0,>=0.7.1 in c:\\users\\athen\\desktop\\github\\mastersthesis\\.venv\\lib\\site-packages (from botocore==1.37.12->awscli) (1.0.1)\n",
      "Requirement already satisfied: python-dateutil<3.0.0,>=2.1 in c:\\users\\athen\\desktop\\github\\mastersthesis\\.venv\\lib\\site-packages (from botocore==1.37.12->awscli) (2.9.0.post0)\n",
      "Requirement already satisfied: urllib3!=2.2.0,<3,>=1.25.4 in c:\\users\\athen\\desktop\\github\\mastersthesis\\.venv\\lib\\site-packages (from botocore==1.37.12->awscli) (2.3.0)\n",
      "Collecting pyasn1>=0.1.3 (from rsa<4.8,>=3.1.2->awscli)\n",
      "  Downloading pyasn1-0.6.1-py3-none-any.whl.metadata (8.4 kB)\n",
      "Requirement already satisfied: six>=1.5 in c:\\users\\athen\\desktop\\github\\mastersthesis\\.venv\\lib\\site-packages (from python-dateutil<3.0.0,>=2.1->botocore==1.37.12->awscli) (1.17.0)\n",
      "Downloading awscli-1.38.12-py3-none-any.whl (4.6 MB)\n",
      "   ---------------------------------------- 0.0/4.6 MB ? eta -:--:--\n",
      "   ---------------------------------------- 4.6/4.6 MB 55.9 MB/s eta 0:00:00\n",
      "Downloading docutils-0.16-py2.py3-none-any.whl (548 kB)\n",
      "   ---------------------------------------- 0.0/548.2 kB ? eta -:--:--\n",
      "   --------------------------------------- 548.2/548.2 kB 19.1 MB/s eta 0:00:00\n",
      "Downloading PyYAML-6.0.2-cp312-cp312-win_amd64.whl (156 kB)\n",
      "Downloading rsa-4.7.2-py3-none-any.whl (34 kB)\n",
      "Downloading pyasn1-0.6.1-py3-none-any.whl (83 kB)\n",
      "Installing collected packages: PyYAML, pyasn1, docutils, rsa, awscli\n",
      "Successfully installed PyYAML-6.0.2 awscli-1.38.12 docutils-0.16 pyasn1-0.6.1 rsa-4.7.2\n"
     ]
    }
   ],
   "source": [
    "!pip install awscli"
   ]
  }
 ],
 "metadata": {
  "kernelspec": {
   "display_name": ".venv",
   "language": "python",
   "name": "python3"
  },
  "language_info": {
   "codemirror_mode": {
    "name": "ipython",
    "version": 3
   },
   "file_extension": ".py",
   "mimetype": "text/x-python",
   "name": "python",
   "nbconvert_exporter": "python",
   "pygments_lexer": "ipython3",
   "version": "3.12.0"
  }
 },
 "nbformat": 4,
 "nbformat_minor": 2
}
